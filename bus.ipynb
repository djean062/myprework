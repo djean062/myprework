{
 "cells": [
  {
   "cell_type": "markdown",
   "metadata": {},
   "source": [
    "# Bus\n",
    "\n",
    "This bus has a passenger entry and exit control system to monitor the number of occupants it carries and thus detect when there is too high a capacity.\n",
    "\n",
    "At each stop the entry and exit of passengers is represented by a tuple consisting of two integer numbers.\n",
    "```\n",
    "bus_stop = (in, out)\n",
    "```\n",
    "The succession of stops is represented by a list of these tuples.\n",
    "```\n",
    "stops = [(in1, out1), (in2, out2), (in3, out3), (in4, out4)]\n",
    "```\n",
    "\n",
    "## Goals:\n",
    "* lists, tuples\n",
    "* while/for loops\n",
    "* minimum, maximum, length\n",
    "* average, standard deviation\n",
    "\n",
    "## Tasks\n",
    "1. Calculate the number of stops.\n",
    "2. Assign to a variable a list whose elements are the number of passengers at each stop (in-out),\n",
    "3. Find the maximum occupation of the bus.\n",
    "4. Calculate the average occupation. And the standard deviation.\n"
   ]
  },
  {
   "cell_type": "code",
   "execution_count": 9,
   "metadata": {},
   "outputs": [],
   "source": [
    "# variables\n",
    "bus_stop = (In, out)\n",
    "stops = [(in1, out1), (in2, out2), (in3, out3), (in4, out4)]\n",
    "number_of_stops = 0\n"
   ]
  },
  {
   "cell_type": "code",
   "execution_count": 14,
   "metadata": {},
   "outputs": [
    {
     "name": "stdout",
     "output_type": "stream",
     "text": [
      "4\n"
     ]
    }
   ],
   "source": [
    "# 1. Calculate the number of stops.\n",
    "stops = [(in1, out1), (in2, out2), (in3, out3), (in4, out4)]\n",
    "number_of_stops = len (stops)\n",
    "print(len(stops))"
   ]
  },
  {
   "cell_type": "code",
   "execution_count": 11,
   "metadata": {},
   "outputs": [],
   "source": [
    "# 2. Assign a variable a list whose elements are the number of passengers in each stop: \n",
    "# Each item depends on the previous item in the list + in - out.\n",
    "bus_stop = (In, out)\n",
    "stops = [(21, 7), (12, 11), (44, 19), (23, 17)]\n"
   ]
  },
  {
   "cell_type": "code",
   "execution_count": 9,
   "metadata": {},
   "outputs": [
    {
     "name": "stdout",
     "output_type": "stream",
     "text": [
      "14\n",
      "15\n",
      "40\n",
      "46\n"
     ]
    }
   ],
   "source": [
    "# 3. Find the maximum occupation of the bus.\n",
    "stops = [(21, 7), (12, 11), (44, 19), (23, 17)]\n",
    "In = 0\n",
    "out = 1\n",
    "max_occupancy = 0\n",
    "number_of_stops = len (stops)\n",
    "\n",
    "for i in range(number_of_stops):\n",
    "    bus_stop = stops[i]\n",
    "    max_occupancy = max_occupancy + bus_stop[In] - bus_stop[out]\n",
    "    print(max_occupancy)\n",
    "    \n",
    "    \n"
   ]
  },
  {
   "cell_type": "code",
   "execution_count": 28,
   "metadata": {},
   "outputs": [
    {
     "name": "stdout",
     "output_type": "stream",
     "text": [
      "14\n",
      "15\n",
      "40\n",
      "46\n",
      "Maximum Occupation = 46\n",
      "Average = 28\n",
      "Standard Deviation = 16\n"
     ]
    }
   ],
   "source": [
    "# 4. Calculate the average occupation. And the standard deviation.\n",
    "from statistics import stdev\n",
    "stops = [(21, 7), (12, 11), (44, 19), (23, 17)]\n",
    "In = 0\n",
    "out = 1\n",
    "max_occupancy = 0\n",
    "number_of_stops = len (stops)\n",
    "tot_occupancy = 0\n",
    "occupancy = []\n",
    "\n",
    "for i in range(number_of_stops):\n",
    "    bus_stop = stops[i]\n",
    "    max_occupancy = max_occupancy + bus_stop[In] - bus_stop[out]\n",
    "    print(max_occupancy)\n",
    "    tot_occupancy = max_occupancy + tot_occupancy\n",
    "    occupancy.append(max_occupancy)\n",
    "true_max_occupancy = max(occupancy)\n",
    "print('Maximum Occupation =', true_max_occupancy)\n",
    "print('Average =',int(tot_occupancy/number_of_stops))\n",
    "print('Standard Deviation =', int(stdev(occupancy)))\n",
    "\n"
   ]
  }
 ],
 "metadata": {
  "kernelspec": {
   "display_name": "Python 3",
   "language": "python",
   "name": "python3"
  },
  "language_info": {
   "codemirror_mode": {
    "name": "ipython",
    "version": 3
   },
   "file_extension": ".py",
   "mimetype": "text/x-python",
   "name": "python",
   "nbconvert_exporter": "python",
   "pygments_lexer": "ipython3",
   "version": "3.7.4"
  }
 },
 "nbformat": 4,
 "nbformat_minor": 2
}
